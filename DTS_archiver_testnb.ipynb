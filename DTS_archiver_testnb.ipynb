{
 "cells": [
  {
   "cell_type": "code",
   "execution_count": 1,
   "metadata": {
    "collapsed": true
   },
   "outputs": [],
   "source": [
    "import os\n",
    "import subprocess\n",
    "import datetime\n",
    "import sys\n",
    "import glob\n",
    "import tarfile\n",
    "\n",
    "# Script to tar and gzip the Ultima data"
   ]
  },
  {
   "cell_type": "code",
   "execution_count": 2,
   "metadata": {
    "collapsed": true
   },
   "outputs": [],
   "source": [
    "# ------------------------------------------------------------------------------\n",
    "# System stuff\n",
    "# ------------------------------------------------------------------------------\n",
    "# Path of the python file\n",
    "def get_script_path():\n",
    "    return os.path.dirname(os.path.realpath(sys.argv[0]))\n",
    "scriptPath = get_script_path()\n",
    "\n",
    "# Path to unison.exe\n",
    "unisonPath = os.path.join(scriptPath, 'Unison', 'Unison-2.40.61 Text.exe')\n",
    "\n",
    "# Add the unison-required libraries to the path\n",
    "unisonLibs = os.path.join(scriptPath, 'libs', 'gtk-runtime-2.16.6.0', 'Gtk', 'bin')\n",
    "if unisonLibs not in sys.path:\n",
    "    sys.path.append(unisonLibs)\n",
    "# ------------------------------------------------------------------------------"
   ]
  },
  {
   "cell_type": "code",
   "execution_count": 8,
   "metadata": {
    "collapsed": true
   },
   "outputs": [],
   "source": [
    "# ------------------------------------------------------------------------------\n",
    "# Define paths here. Use single quotes as python expects strings.\n",
    "# ------------------------------------------------------------------------------\n",
    "# Mode to run the script in\n",
    "mode = 'archiving'\n",
    "# Path to search for local data.\n",
    "sourcePath = '/Users/karllapo/Desktop/software/DTS_archive/'\n",
    "# Path to where you want the data to end up\n",
    "targetPath = '/Users/karllapo/Desktop/archive/'\n",
    "# Root variables for the unison command. rootLocal is where to find the\n",
    "# local archive. rootBackup is where to find the backup drive. rootMobile is\n",
    "# where to find removable disk. Both back up locations may not be needed. In\n",
    "# that case leave the unneeded path as an empty string, e.g., ''. Logfiles are\n",
    "# where you want the log of the synchronisation to be written.\n",
    "rootLocal = targetPath\n",
    "rootMobile = '/Volumes/NO NAME/test_archive'\n",
    "logfileMobile = rootMobile + '_logfile.txt'\n",
    "# Names of the channels. The script will search for targetPath/channel_X.\n",
    "channel_1 = 'channel 1'\n",
    "channel_2 = 'channel 2'\n",
    "channel_3 = 'channel 3'\n",
    "channel_4 = 'channel 4'\n",
    "channels = [channel_1, channel_2, channel_3, channel_4]"
   ]
  },
  {
   "cell_type": "code",
   "execution_count": 4,
   "metadata": {
    "collapsed": true
   },
   "outputs": [],
   "source": [
    "# ------------------------------------------------------------------------------\n",
    "# Sub function -- actually zips and archives data\n",
    "# ------------------------------------------------------------------------------\n",
    "# Python libraries for controlling the tarballing\n",
    "def make_tarfile(tarName, filesToZip):\n",
    "    # Open the tarball and prepare it for writing\n",
    "    with tarfile.open(tarName, \"w:gz\") as tar:\n",
    "        # If a wildcard was passed in filesToZip...\n",
    "        if '*' in filesToZip:\n",
    "            # Glob the wildcard expressions together\n",
    "            filesToZip = glob.glob(filesToZip)\n",
    "            # Add each file to the tarball\n",
    "            for f in filesToZip:\n",
    "                tar.add(f, arcname=os.path.basename(f))\n",
    "        # Else just tarball the whole thing\n",
    "        else:\n",
    "            tar.add(filesToZip, arcname=os.path.basename(filesToZip))\n",
    "\n",
    "def archiveTool(outFile, sourceFile):\n",
    "    '''\n",
    "    This helper function creates the command to tar.gz the DTS XML files.\n",
    "    INPUT:\n",
    "        outFile = Name of the tar.gz file to create\n",
    "        sourceFile = Name of the source files to compress. It MUST terminate with a\n",
    "            wildcare (*) (I think).\n",
    "    OUTPUT:\n",
    "        flag = True if the archive was sucessfully created. False if an error was \n",
    "            detected.\n",
    "    '''\n",
    "    # Check that the directory actually exists.\n",
    "    if os.path.isdir(sourcePath):\n",
    "        print('Source files: ' + sourceFile)\n",
    "        print('Archiving to: ' + outFile)\n",
    "\n",
    "        # Compress xml files\n",
    "        make_tarfile(outFile, sourceFile)\n",
    "        # Previous version of the code checked for errors in the archiving\n",
    "        # and returned a boolean indicating if the process occurred successfully.\n",
    "        return(True)\n",
    "    \n",
    "    # No files were found, exit and notify.\n",
    "    else:\n",
    "        print('Could not find files in specified paths. Please check sourcePath')\n",
    "        return(False)\n",
    "    "
   ]
  },
  {
   "cell_type": "code",
   "execution_count": 5,
   "metadata": {},
   "outputs": [
    {
     "name": "stdout",
     "output_type": "stream",
     "text": [
      "Source files: /Users/karllapo/Desktop/software/DTS_archive/channel 1/channel 1_2017121315*\n",
      "Archiving to: /Users/karllapo/Desktop/archive/channel 1_20171213-15.tar.gz\n",
      "Source files: /Users/karllapo/Desktop/software/DTS_archive/channel 1/channel 1_2017121316*\n",
      "Archiving to: /Users/karllapo/Desktop/archive/channel 1_20171213-16.tar.gz\n",
      "Source files: /Users/karllapo/Desktop/software/DTS_archive/channel 1/channel 1_2017121317*\n",
      "Archiving to: /Users/karllapo/Desktop/archive/channel 1_20171213-17.tar.gz\n",
      "Done with channel 1. Backup files in: /Users/karllapo/Desktop/archive/\n",
      "Did not find channel 2\n",
      "Did not find channel 3\n",
      "Did not find channel 4\n"
     ]
    }
   ],
   "source": [
    "# ------------------------------------------------------------------------------\n",
    "# Archive data\n",
    "# ------------------------------------------------------------------------------\n",
    "for ch in channels:\n",
    "    channelPath = os.path.join(sourcePath, ch)\n",
    "\n",
    "    ########\n",
    "    # Active: Meant to be run with a cron job and uses the current time.\n",
    "    if mode == 'active':\n",
    "        now = datetime.datetime.now()\n",
    "        yyyy = now.year\n",
    "        mm = now.month\n",
    "        dd = now.dd\n",
    "\n",
    "        # Hours require special attention\n",
    "        hh = now.hour\n",
    "        if hh < 10:\n",
    "            hh = '0' + str(hh)\n",
    "\n",
    "        # Date to zip and archive\n",
    "        dateFileName = '_' + yyyy + mm + dd + '-' + hh\n",
    "\n",
    "        # Define file names using current time\n",
    "        outFile = os.path.join(targetPath, channel_1 + '_' + dateFileName + '.tar.gz')\n",
    "        sourceFile = os.path.join(sourcePath, channel_1, channel_1 + '_' + dateFileName + '*')\n",
    "\n",
    "        # zip the data and move to archive\n",
    "        archiveTool(outFile, sourceFile)\n",
    "\n",
    "    ########\n",
    "    # Archive: To archive previously aquired data.\n",
    "    elif mode == 'archiving':\n",
    "        # Check if the channel directory exists.\n",
    "        if os.path.isdir(channelPath):\n",
    "            contents = os.listdir(channelPath)\n",
    "        # If it doesn't, move on to the next channel\n",
    "        else:\n",
    "            print('Did not find ' + ch)\n",
    "            continue\n",
    "        # Only select xml files\n",
    "        contents = [c for c in contents if '.xml' in c]\n",
    "        # Sort the file list alphabetically.\n",
    "        contents.sort()\n",
    "\n",
    "        # First datetimes\n",
    "        t = contents[0]\n",
    "        t = t.split('_')[-1]\n",
    "        t = t.split('.')[0]\n",
    "        year = t[0:4]\n",
    "        month = t[4:6]\n",
    "        day = t[6:8]\n",
    "        hour = t[8:10]\n",
    "        dtInit = datetime.datetime(int(year), int(month), int(day), int(hour), 0)\n",
    "\n",
    "        # Last datetime\n",
    "        t = contents[-1]\n",
    "        t = t.split('_')[-1]\n",
    "        t = t.split('.')[0]\n",
    "        year = t[0:4]\n",
    "        month = t[4:6]\n",
    "        day = t[6:8]\n",
    "        hour = t[8:10]\n",
    "        dtFinal = datetime.datetime(int(year), int(month), int(day), int(hour), 0)\n",
    "\n",
    "        # Span the time found in the specified directory\n",
    "        dt = dtInit\n",
    "        while dt <= dtFinal:\n",
    "            yyyy = dt.year\n",
    "            mm = dt.month\n",
    "            dd = dt.day\n",
    "\n",
    "            # Hours require special attention\n",
    "            hh = dt.hour\n",
    "            if hh < 10:\n",
    "                hh = '0' + str(hh)\n",
    "            else:\n",
    "                hh = str(hh)\n",
    "\n",
    "            # Create file names for this hour\n",
    "            dateFileName = '_' + str(yyyy) + str(mm) + str(dd) + '-' + hh\n",
    "            outFile = os.path.join(targetPath, ch + '_' + str(yyyy) +\n",
    "                str(mm) + str(dd) + '-' + hh + '.tar.gz')\n",
    "            sourceFile = os.path.join(sourcePath, ch,\n",
    "                channel_1 + '_' + str(yyyy) + str(mm) + str(dd) + hh + '*')\n",
    "            # Zip and archive this time period\n",
    "            archiveTool(outFile, sourceFile)\n",
    "\n",
    "            # Iterate the time\n",
    "            dt = dt + datetime.timedelta(hours=1)\n",
    "\n",
    "    print('Done with ' + ch + '. Backup files in: ' + targetPath)\n",
    "# ------------------------------------------------------------------------------"
   ]
  },
  {
   "cell_type": "code",
   "execution_count": 6,
   "metadata": {},
   "outputs": [
    {
     "name": "stdout",
     "output_type": "stream",
     "text": [
      "Warning: Mobile back-up was not found in the specified path.\n"
     ]
    }
   ],
   "source": [
    "# ------------------------------------------------------------------------------\n",
    "# Sync to the mobile backup drive.\n",
    "if os.path.isdir(rootMobile):\n",
    "    print('Backing up archives to mobile drive')\n",
    "    print('Syncing ' + rootLocal + ' to ' + rootMobile)\n",
    "    \n",
    "    # Check the os. Unix = rsync; Windos = Unison.\n",
    "    if os.name == 'nt':\n",
    "        mergeCommand = [unisonPath, rootLocal, rootMobile,\n",
    "                        '-logfile ' + logfileMobile, ' -force ' + rootLocal,\n",
    "                        ' -batch -nodeletion ' + rootMobile]\n",
    "        subprocess.check_output(mergeCommand)\n",
    "        try:\n",
    "            p = subprocess.check_output(mergeCommand)\n",
    "        # The tar command indicated an error.\n",
    "        except subprocess.CalledProcessError:\n",
    "            print('Warning: syncing to the mobile backup failed.')\n",
    "\n",
    "    elif os.name == 'posix':\n",
    "        # Add a trailing backslash to make rsync behave as expected.\n",
    "        if not rootMobile[-1] == '/':\n",
    "            rootMobile = rootMobile + '/'\n",
    "        if not rootLocal[-1] == '/':\n",
    "            rootLocal = rootLocal + '/'\n",
    "        mergeCommand = ['rsync', '-az', rootLocal, rootMobile]\n",
    "        try:\n",
    "            p = subprocess.check_output(mergeCommand)\n",
    "        # The tar command indicated an error.\n",
    "        except subprocess.CalledProcessError:\n",
    "            print('Warning: syncing to the mobile backup failed.')\n",
    "        \n",
    "else:\n",
    "    print('Warning: Mobile back-up was not found in the specified path.')\n",
    "# ------------------------------------------------------------------------------"
   ]
  },
  {
   "cell_type": "code",
   "execution_count": 13,
   "metadata": {},
   "outputs": [
    {
     "name": "stdout",
     "output_type": "stream",
     "text": [
      "/Users/karllapo/Desktop/archive/\n",
      "/Volumes/NO NAME/test_archive\n",
      "\n",
      "dirsync finished in 2.56 seconds.\n",
      "1 directories parsed, 0 files copied\n",
      "3 files were updated by timestamp.\n",
      "\n"
     ]
    },
    {
     "data": {
      "text/plain": [
       "{'/Volumes/NO NAME/test_archive/.DS_Store',\n",
       " '/Volumes/NO NAME/test_archive/channel 1_20171213-15.tar.gz',\n",
       " '/Volumes/NO NAME/test_archive/channel 1_20171213-16.tar.gz'}"
      ]
     },
     "execution_count": 13,
     "metadata": {},
     "output_type": "execute_result"
    }
   ],
   "source": [
    "I cimport dirsync\n",
    "dirsync.sync(rootLocal, rootMobile, 'sync')"
   ]
  },
  {
   "cell_type": "code",
   "execution_count": null,
   "metadata": {
    "collapsed": true
   },
   "outputs": [],
   "source": []
  }
 ],
 "metadata": {
  "kernelspec": {
   "display_name": "Python 3",
   "language": "python",
   "name": "python3"
  },
  "language_info": {
   "codemirror_mode": {
    "name": "ipython",
    "version": 3
   },
   "file_extension": ".py",
   "mimetype": "text/x-python",
   "name": "python",
   "nbconvert_exporter": "python",
   "pygments_lexer": "ipython3",
   "version": "3.6.1"
  }
 },
 "nbformat": 4,
 "nbformat_minor": 2
}
