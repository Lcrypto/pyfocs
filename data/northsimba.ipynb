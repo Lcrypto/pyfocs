{
 "cells": [
  {
   "cell_type": "markdown",
   "metadata": {},
   "source": [
    "# North Simba quicklook\n",
    "\n",
    "channel 1, Piggy, LOVE_Simba_north_artifacts_190730\n",
    "\n",
    "Looking at the mapping and properties of the North Simba in general, not quality checking for a specific run."
   ]
  },
  {
   "cell_type": "code",
   "execution_count": 1,
   "metadata": {},
   "outputs": [
    {
     "data": {
      "text/html": [
       "<script>\n",
       "  function code_toggle() {\n",
       "    if (code_shown){\n",
       "      $('div.input').hide('500');\n",
       "      $('#toggleButton').val('Show Code')\n",
       "    } else {\n",
       "      $('div.input').show('500');\n",
       "      $('#toggleButton').val('Hide Code')\n",
       "    }\n",
       "    code_shown = !code_shown\n",
       "  }\n",
       "\n",
       "  $( document ).ready(function(){\n",
       "    code_shown=false;\n",
       "    $('div.input').hide()\n",
       "  });\n",
       "</script>\n",
       "<form action=\"javascript:code_toggle()\"><input type=\"submit\" id=\"toggleButton\" value=\"Show Code\"></form>"
      ],
      "text/plain": [
       "<IPython.core.display.HTML object>"
      ]
     },
     "execution_count": 1,
     "metadata": {},
     "output_type": "execute_result"
    }
   ],
   "source": [
    "from IPython.display import HTML\n",
    "\n",
    "hide_me = ''\n",
    "HTML('''<script>\n",
    "  function code_toggle() {\n",
    "    if (code_shown){\n",
    "      $('div.input').hide('500');\n",
    "      $('#toggleButton').val('Show Code')\n",
    "    } else {\n",
    "      $('div.input').show('500');\n",
    "      $('#toggleButton').val('Hide Code')\n",
    "    }\n",
    "    code_shown = !code_shown\n",
    "  }\n",
    "\n",
    "  $( document ).ready(function(){\n",
    "    code_shown=false;\n",
    "    $('div.input').hide()\n",
    "  });\n",
    "</script>\n",
    "<form action=\"javascript:code_toggle()\"><input type=\"submit\" id=\"toggleButton\" value=\"Show Code\"></form>''')"
   ]
  },
  {
   "cell_type": "code",
   "execution_count": 2,
   "metadata": {},
   "outputs": [],
   "source": [
    "# netcdf/numpy/xray/stats\n",
    "import numpy as np\n",
    "import xarray as xr\n",
    "import yaml\n",
    "\n",
    "# OS interaction\n",
    "import os\n",
    "\n",
    "\n",
    "# import plotting\n",
    "import seaborn as sns\n",
    "import matplotlib\n",
    "import matplotlib.pyplot as plt\n",
    "from matplotlib.lines import Line2D\n",
    "import string\n",
    "import datetime\n",
    "import pandas as pd\n",
    "import copy\n",
    "import btmm_process\n",
    "from matplotlib.ticker import (MultipleLocator, FormatStrFormatter,\n",
    "                               AutoMinorLocator)\n",
    "\n",
    "import warnings\n",
    "warnings.filterwarnings(\"ignore\")"
   ]
  },
  {
   "cell_type": "markdown",
   "metadata": {},
   "source": [
    "## Format plots"
   ]
  },
  {
   "cell_type": "code",
   "execution_count": 3,
   "metadata": {},
   "outputs": [],
   "source": [
    "%matplotlib inline\n",
    "# Higher resolution figures within the notebook\n",
    "%config InlineBackend.figure_format = 'retina'\n",
    "\n",
    "# Set the plot style from the seaborn library\n",
    "sns.set_style(\"whitegrid\")\n",
    "context = 'paper'\n",
    "sns.set_context(\"paper\", rc={\"font.size\":8,\"axes.titlesize\":8,\"axes.labelsize\":8})\n",
    "\n",
    "# Define a default color palette (this should be fairly color blind friendly)\n",
    "flatui = [\"#9b59b6\", \"#3498db\", \"#95a5a6\", \"#e74c3c\", \"#34495e\", \"#2ecc71\"]\n",
    "sns.set_palette(sns.color_palette(flatui))\n",
    "\n",
    "# Define a line style list\n",
    "ls_list = ['-', '--', ':', '-']\n",
    "ms_list = ['v', '*', 's', 'o']\n",
    "\n",
    "alphabet = list(string.ascii_lowercase)"
   ]
  },
  {
   "cell_type": "markdown",
   "metadata": {},
   "source": [
    "### Directories"
   ]
  },
  {
   "cell_type": "code",
   "execution_count": 4,
   "metadata": {},
   "outputs": [],
   "source": [
    "# Name of the DTS configuration.\n",
    "exp_name = 'LOVE_Simba_north_artifacts_190730'\n",
    "\n",
    "# Determine which computer I am on\n",
    "computer = os.environ.get('LOCALNAME')\n",
    "if computer == 'btgmm8.geo.uni-bayreuth.de':\n",
    "    dir_pre = os.path.join('/Users/karllapo/Desktop/proj/DarkMix_Voitsumra')\n",
    "elif computer == 'MARVIN':\n",
    "    dir_pre = os.path.join('/Users/karllapo/gdrive/proj/DarkMix_Voitsumra')\n",
    "\n",
    "# DTS data\n",
    "dir_dts_data = os.path.join(dir_pre, 'love_dts', exp_name)\n",
    "dir_data_cal = os.path.join(dir_dts_data, 'calibrated')\n",
    "dir_data_proc = os.path.join(dir_dts_data,  'processed')\n",
    "dir_data_raw = os.path.join(dir_dts_data,  'raw_netcdf')\n",
    "\n",
    "# Met data\n",
    "dir_logger_data = os.path.join(dir_pre, 'logger_data')\n",
    "dir_rbr_data = os.path.join(dir_logger_data, 'RBR_Data')\n",
    "\n",
    "# Figures\n",
    "dir_print = os.path.join(dir_pre, 'figures')"
   ]
  },
  {
   "cell_type": "markdown",
   "metadata": {},
   "source": [
    "## Raw data\n",
    "\n",
    "- Examine the time-averaged instrument reported temperatures.\n",
    "- Explore for power step-losses and necessary correction.\n",
    "- Examine the bath temperature time series.\n",
    "- Make sure the mapping is reasonable.\n",
    "\n",
    "To do this I am loading 4 hours of data spanning between night and day. Later in the document I examine a day time and night time period separately (tower mapping verification)."
   ]
  },
  {
   "cell_type": "code",
   "execution_count": 5,
   "metadata": {},
   "outputs": [],
   "source": [
    "os.chdir(dir_data_raw)\n",
    "dsraw = xr.open_mfdataset('raw_channel 1_20190731-0[5-9]*.nc')\n",
    "\n",
    "dsraw_mean = dsraw.temp.mean(dim='time')\n",
    "dsraw_std = dsraw.temp.std(dim='time')"
   ]
  },
  {
   "cell_type": "markdown",
   "metadata": {},
   "source": [
    "# Data Overview\n",
    "\n",
    "## Instrument Reported Temperature"
   ]
  },
  {
   "cell_type": "code",
   "execution_count": 6,
   "metadata": {},
   "outputs": [
    {
     "data": {
      "text/plain": [
       "Text(0.5, 0, 'LAF (m)')"
      ]
     },
     "execution_count": 6,
     "metadata": {},
     "output_type": "execute_result"
    },
    {
     "data": {
      "image/png": "[encoded data removed]",
      "text/plain": [
       "<Figure size 576x360 with 1 Axes>"
      ]
     },
     "metadata": {
      "image/png": {
       "height": 316,
       "width": 490
      }
     },
     "output_type": "display_data"
    },
    {
     "data": {
      "image/png": "[encoded data removed]",
      "text/plain": [
       "<Figure size 576x360 with 1 Axes>"
      ]
     },
     "metadata": {
      "image/png": {
       "height": 316,
       "width": 497
      }
     },
     "output_type": "display_data"
    }
   ],
   "source": [
    "# Let's look at the entire fiber\n",
    "fig, ax = plt.subplots(figsize=(8, 5))\n",
    "ax.plot(dsraw.LAF, dsraw.temp.mean(dim='time').values, label='instr. temp')\n",
    "\n",
    "ymin = 0\n",
    "ymax = 40\n",
    "ax.set_ylim(ymin, ymax)\n",
    "ax.set_xlim(0, dsraw.LAF.max())\n",
    "\n",
    "ax.legend(loc='best')\n",
    "ax.set_ylabel('Temperature (C)')\n",
    "ax.set_xlabel('LAF (m)')\n",
    "\n",
    "os.chdir(dir_print)\n",
    "# fig.savefig(exp_name + '.raw.ql.pdf')\n",
    "\n",
    "# Splice between cores\n",
    "fig, ax = plt.subplots(figsize=(8, 5))\n",
    "ax.plot(dsraw.LAF, dsraw.temp.mean(dim='time').values, label='instr. temp')\n",
    "\n",
    "ymin = 0\n",
    "ymax = 40\n",
    "ax.set_ylim(ymin, ymax)\n",
    "ax.set_xlim(880, 930)\n",
    "ax.set_ylabel('Temperature (C)')\n",
    "ax.set_xlabel('LAF (m)')"
   ]
  },
  {
   "cell_type": "markdown",
   "metadata": {},
   "source": [
    "Create two cores with the split around 900m (exact location is not important)."
   ]
  },
  {
   "cell_type": "markdown",
   "metadata": {},
   "source": [
    "## $log(\\frac{P_s}{P_{as}})$"
   ]
  },
  {
   "cell_type": "code",
   "execution_count": 7,
   "metadata": {},
   "outputs": [],
   "source": [
    "power = np.log(dsraw.Ps / dsraw.Pas)\n",
    "power_timeavg = power.mean(dim='time')\n",
    "power_timestd = power.std(dim='time')"
   ]
  },
  {
   "cell_type": "code",
   "execution_count": null,
   "metadata": {},
   "outputs": [
    {
     "name": "stderr",
     "output_type": "stream",
     "text": [
      "No handles with labels found to put in legend.\n"
     ]
    }
   ],
   "source": [
    "# Let's look at the entire fiber\n",
    "fig, ax = plt.subplots(figsize=(8, 5))\n",
    "ax.plot(dsraw.LAF, power_timeavg.values)\n",
    "ax.fill_between(power.LAF, power_timeavg.values - power_timestd.values, power_timeavg.values + power_timestd, color=flatui[0], alpha=0.5)\n",
    "# ymin = 0\n",
    "# ymax = 40\n",
    "ax.set_ylim(0.1, 0.4)\n",
    "ax.set_xlim(0, dsraw.LAF.max())\n",
    "\n",
    "ax.legend(loc='best')\n",
    "ax.set_ylabel('Power')\n",
    "ax.set_xlabel('LAF (m)')\n",
    "\n",
    "# LAF of std\n",
    "fig, ax = plt.subplots(figsize=(8, 5))\n",
    "ax.plot(power.LAF, power_timestd.values)\n",
    "\n",
    "ax.set_ylim(0.005, 0.015)\n",
    "ax.set_xlim(0, dsraw.LAF.max())"
   ]
  },
  {
   "cell_type": "markdown",
   "metadata": {},
   "source": [
    "# Baths\n",
    "\n",
    "### Old bath locations\n",
    "\n",
    "Keep these values for future reference. These are the values that were found when using an ice pack. They were found by eye and should not be the final values used."
   ]
  },
  {
   "cell_type": "code",
   "execution_count": null,
   "metadata": {},
   "outputs": [],
   "source": [
    "# Read location library\n",
    "phys_locs_file = '/Users/karllapo/Desktop/proj/DarkMix_Voitsumra/love_dts/NorthSimba_towermane_physloc.v4_082819.yml'\n",
    "phys_locs = yaml.load(phys_locs_file)\n",
    "with open(phys_locs_file, 'r') as stream:\n",
    "    phys_locs = yaml.load(stream)\n",
    "phys_locs = phys_locs['location_library']\n",
    "\n",
    "# For reference, here are the old (and incorrect) bath locations\n",
    "bath_locs_old = {'warmnear': {'LAF': {'core A': [20.2, 22.2], 'core B': [917.75, 919.5]}},\n",
    "                 'warmfar': {'LAF': {'core A': [895.6, 897.4], 'core B': [1793.0, 1795.0]}},\n",
    "                 'coldnear': {'LAF': {'core A': [24.25, 26.5], 'core B': [922.25, 924.25]}},\n",
    "                 'coldfar': {'LAF': {'core A': [891.0, 893.0], 'core B': [1788.5, 1790.5]}}\n",
    "                }"
   ]
  },
  {
   "cell_type": "code",
   "execution_count": null,
   "metadata": {},
   "outputs": [],
   "source": [
    "bathnames = ['warmnear', 'warmfar', 'coldnear', 'coldfar']\n",
    "cores = ['core A', 'core B']\n",
    "\n",
    "# ------------------------\n",
    "# OLD BATH LOCATIONS\n",
    "fig, axes = plt.subplots(2, 4, figsize=(12, 6))\n",
    "\n",
    "for nc, c in enumerate(cores):\n",
    "    for bn_num, bn in enumerate(bathnames):\n",
    "        ax = axes[nc, bn_num]\n",
    "        ax.set_title(c + ': ' + bn)\n",
    "        bath_start = bath_locs_old[bn]['LAF'][c][0]\n",
    "        bath_end = bath_locs_old[bn]['LAF'][c][1]\n",
    "        ax.fill_between([bath_start, bath_end], -20, 60, edgecolor='k', facecolor='0.9', alpha=0.8)\n",
    "        ax.plot(dsraw.LAF, dsraw_mean.values)\n",
    "        ax.set_xlim(bath_start - 2.5, bath_end + 2.5)\n",
    "        if 'warm' in bn:\n",
    "            ax.set_ylim(20, 38)\n",
    "        elif 'cold' in bn:\n",
    "            ax.set_ylim(-5, 20)\n",
    "        ax.set_ylabel('Temperature (C)')\n",
    "        ax.set_xlabel('LAF (m)')\n",
    "fig.tight_layout()\n"
   ]
  },
  {
   "cell_type": "markdown",
   "metadata": {},
   "source": [
    "## Refining the bath location\n",
    "\n",
    "This is an iterative process and I've revisited these limits several times.\n",
    "\n",
    "### Instrument Reported Temperature"
   ]
  },
  {
   "cell_type": "code",
   "execution_count": null,
   "metadata": {},
   "outputs": [],
   "source": [
    "# Store the old (and incorrect) bath locations - v1\n",
    "bath_locs_prev = {'warmnear': {'LAF': {'core A': [20.4, 22.0], 'core B': [917.9, 919.3]}},\n",
    "                 'warmfar': {'LAF': {'core A': [895.8, 897.2], 'core B': [1793.0, 1794.5]}},\n",
    "                 'coldnear': {'LAF': {'core A': [24.5, 26.5], 'core B': [922.25, 924.25]}},\n",
    "                 'coldfar': {'LAF': {'core A': [891.0, 893.0], 'core B': [1788.5, 1790.2]}}\n",
    "                }\n",
    "\n",
    "# Store the old (and incorrect) bath locations - v2\n",
    "# bath_locs_new = {'warmnear': {'LAF': {'core A': [20.6, 21.8], 'core B': [918.2, 919.4]}},\n",
    "#                  'warmfar': {'LAF': {'core A': [896.1, 897.2], 'core B': [1793.3, 1794.5]}},\n",
    "#                  'coldnear': {'LAF': {'core A': [24.7, 26.3], 'core B': [922.6, 924.1]}},\n",
    "#                  'coldfar': {'LAF': {'core A': [891.2, 892.9], 'core B': [1788.9, 1790.1]}}\n",
    "#                 }\n",
    "\n",
    "# Store the old (and incorrect) bath locations - v3\n",
    "bath_locs_new = {'warmnear': {'LAF': {'core A': [20.7, 21.7], 'core B': [918.2, 919.3]}},\n",
    "                 'warmfar': {'LAF': {'core A': [896.1, 897.1], 'core B': [1793.3, 1794.4]}},\n",
    "                 'coldnear': {'LAF': {'core A': [24.7, 26.2], 'core B': [922.6, 924.1]}},\n",
    "                 'coldfar': {'LAF': {'core A': [891.2, 892.6], 'core B': [1788.9, 1790.1]}}\n",
    "                }\n",
    "\n",
    "# ------------------------\n",
    "# NEW BATH LOCATIONS\n",
    "fig, axes = plt.subplots(2, 4, figsize=(12, 6))\n",
    "\n",
    "for nc, c in enumerate(cores):\n",
    "    for bn_num, bn in enumerate(bathnames):\n",
    "        ax = axes[nc, bn_num]\n",
    "        ax.set_title(c + ': ' + bn)\n",
    "        \n",
    "        bath_start = bath_locs_new[bn]['LAF'][c][0]\n",
    "        bath_end = bath_locs_new[bn]['LAF'][c][1]\n",
    "        \n",
    "        # Fill in the \"current\" bath locations\n",
    "        ax.fill_between([bath_start, bath_end], -20, 60, edgecolor='k', facecolor='0.9', alpha=0.8)\n",
    "        \n",
    "        # The instrument reported temperature data\n",
    "        ax.plot(dsraw.LAF, dsraw_mean.values)\n",
    "\n",
    "        # The previous iteration of bath locations for comparison\n",
    "        ax.plot([bath_locs_prev[bn]['LAF'][c][0], bath_locs_prev[bn]['LAF'][c][0]], [-20, 60], 'k--')\n",
    "        ax.plot([bath_locs_prev[bn]['LAF'][c][1], bath_locs_prev[bn]['LAF'][c][1]], [-20, 60], 'k--')\n",
    "        \n",
    "        ax.set_xlim(bath_start - .5, bath_end + .5)\n",
    "        \n",
    "        if 'warm' in bn:\n",
    "            ax.set_ylim(32, 38)\n",
    "        elif 'cold' in bn:\n",
    "            ax.set_ylim(-5, 5)\n",
    "        ax.set_ylabel('Temperature (C)')\n",
    "        ax.set_xlabel('LAF (m)')\n",
    "fig.tight_layout()\n"
   ]
  },
  {
   "cell_type": "markdown",
   "metadata": {},
   "source": [
    "### $log(\\frac{P_s}{P_as})$\n",
    "\n",
    "Repeat the process with the power ratio"
   ]
  },
  {
   "cell_type": "code",
   "execution_count": null,
   "metadata": {},
   "outputs": [],
   "source": [
    "# Store the old (and incorrect) bath locations - v1\n",
    "\n",
    "# ------------------------\n",
    "# Mean of power\n",
    "fig, axes = plt.subplots(2, 4, figsize=(12, 6))\n",
    "\n",
    "for nc, c in enumerate(cores):\n",
    "    for bn_num, bn in enumerate(bathnames):\n",
    "        ax = axes[nc, bn_num]\n",
    "        ax.xaxis.grid(True, which='minor')\n",
    "        ax.set_title(c + ': ' + bn)\n",
    "\n",
    "        bath_start = bath_locs_new[bn]['LAF'][c][0]\n",
    "        bath_end = bath_locs_new[bn]['LAF'][c][1]\n",
    "        mean_power = power.sel(LAF=slice(bath_start, bath_end)).mean(dim='LAF').mean(dim='time').values\n",
    "        \n",
    "        # Fill in the \"current\" bath locations\n",
    "        ax.fill_between([bath_start, bath_end], -20, 60, edgecolor='k', facecolor='0.9', alpha=0.8, label='New Baths')\n",
    "\n",
    "        # Power perturbation\n",
    "        ax.plot(dsraw.LAF, power_timeavg.values - mean_power)\n",
    "\n",
    "        # The previous iteration of bath locations for comparison\n",
    "        ax.plot([bath_locs_prev[bn]['LAF'][c][0], bath_locs_prev[bn]['LAF'][c][0]], [-20, 60], 'k--', label='Old Baths')\n",
    "        ax.plot([bath_locs_prev[bn]['LAF'][c][1], bath_locs_prev[bn]['LAF'][c][1]], [-20, 60], 'k--')\n",
    "        \n",
    "        ax.set_xlim(bath_start - .5, bath_end + .5)\n",
    "        ax.set_ylim(-0.005, 0.005)\n",
    "\n",
    "        ax.set_ylabel(r'$log(\\frac{Ps}{Pas}) - \\overline{log(\\frac{Ps}{Pas})}$')\n",
    "        ax.set_xlabel('LAF (m)')\n",
    "        ax.xaxis.set_major_locator(MultipleLocator(1))\n",
    "        ax.xaxis.set_major_formatter(FormatStrFormatter('%d'))\n",
    "        ax.xaxis.set_minor_locator(MultipleLocator(.1))\n",
    "ax.legend(loc='upper right', frameon=True)\n",
    "fig.tight_layout()\n"
   ]
  },
  {
   "cell_type": "code",
   "execution_count": null,
   "metadata": {},
   "outputs": [],
   "source": [
    "# ------------------------\n",
    "# Mean of power\n",
    "fig, axes = plt.subplots(2, 4, figsize=(12, 6))\n",
    "\n",
    "for nc, c in enumerate(cores):\n",
    "    for bn_num, bn in enumerate(bathnames):\n",
    "        ax = axes[nc, bn_num]\n",
    "        ax.xaxis.grid(True, which='minor')\n",
    "        ax.set_title(c + ': ' + bn)\n",
    "\n",
    "        bath_start = bath_locs_new[bn]['LAF'][c][0]\n",
    "        bath_end = bath_locs_new[bn]['LAF'][c][1]\n",
    "        bath_ps = dsraw['Ps'].sel(LAF=slice(bath_start, bath_end)).mean(dim='LAF').mean(dim='time').values\n",
    "        \n",
    "        # Fill in the \"current\" bath locations\n",
    "        ax.fill_between([bath_start, bath_end], 0, 6000, edgecolor='k', facecolor='0.9', alpha=0.8, label='New Baths')\n",
    "\n",
    "        # Power perturbation\n",
    "        ax.plot(dsraw.LAF, dsraw.Ps.mean(dim='time'), label='Ps')\n",
    "        ax.plot(dsraw.LAF, dsraw.Pas.mean(dim='time'), label='Pas')\n",
    "        \n",
    "        ax.set_xlim(bath_start - .5, bath_end + .5)\n",
    "        ax.set_ylim(bath_ps - 10, bath_ps + 10)\n",
    "\n",
    "        ax.set_ylabel('Power intensity')\n",
    "        ax.set_xlabel('LAF (m)')\n",
    "        ax.xaxis.set_major_locator(MultipleLocator(1))\n",
    "        ax.xaxis.set_major_formatter(FormatStrFormatter('%d'))\n",
    "        ax.xaxis.set_minor_locator(MultipleLocator(.1))\n",
    "ax.legend(loc='upper right', frameon=True)\n",
    "fig.tight_layout()\n",
    "\n",
    "\n",
    "# ------------------------\n",
    "# Mean of power\n",
    "fig, axes = plt.subplots(2, 4, figsize=(12, 6))\n",
    "\n",
    "for nc, c in enumerate(cores):\n",
    "    for bn_num, bn in enumerate(bathnames):\n",
    "        ax = axes[nc, bn_num]\n",
    "        ax.xaxis.grid(True, which='minor')\n",
    "        ax.set_title(c + ': ' + bn)\n",
    "\n",
    "        bath_start = bath_locs_new[bn]['LAF'][c][0]\n",
    "        bath_end = bath_locs_new[bn]['LAF'][c][1]\n",
    "        bath_ps = dsraw['Ps'].sel(LAF=slice(bath_start, bath_end)).mean(dim='LAF').mean(dim='time').values\n",
    "        bath_pas = dsraw['Pas'].sel(LAF=slice(bath_start, bath_end)).mean(dim='LAF').mean(dim='time').values\n",
    "        \n",
    "        # Fill in the \"current\" bath locations\n",
    "        ax.fill_between([bath_start, bath_end], 0, 6000, edgecolor='k', facecolor='0.9', alpha=0.8, label='New Baths')\n",
    "\n",
    "        # Power perturbation\n",
    "        ax.plot(dsraw.LAF, dsraw.Pas.mean(dim='time'), label='Pas')\n",
    "        \n",
    "        ax.set_xlim(bath_start - .5, bath_end + .5)\n",
    "        ax.set_ylim(bath_pas - 10, bath_pas + 10)\n",
    "\n",
    "        ax.set_ylabel('Power intensity')\n",
    "        ax.set_xlabel('LAF (m)')\n",
    "        ax.xaxis.set_major_locator(MultipleLocator(1))\n",
    "        ax.xaxis.set_major_formatter(FormatStrFormatter('%d'))\n",
    "        ax.xaxis.set_minor_locator(MultipleLocator(.1))\n",
    "ax.legend(loc='upper right', frameon=True)\n",
    "fig.tight_layout()\n"
   ]
  },
  {
   "cell_type": "code",
   "execution_count": null,
   "metadata": {},
   "outputs": [],
   "source": [
    "\n",
    "# ------------------------\n",
    "# Mean of power\n",
    "fig, axes = plt.subplots(2, 4, figsize=(12, 6))\n",
    "\n",
    "for nc, c in enumerate(cores):\n",
    "    for bn_num, bn in enumerate(bathnames):\n",
    "        ax = axes[nc, bn_num]\n",
    "        ax.xaxis.grid(True, which='minor')\n",
    "        ax.set_title(c + ': ' + bn)\n",
    "\n",
    "        bath_start = bath_locs_new[bn]['LAF'][c][0]\n",
    "        bath_end = bath_locs_new[bn]['LAF'][c][1]\n",
    "        bath_ps = dsraw['Ps'].sel(LAF=slice(bath_start, bath_end)).mean(dim='LAF').mean(dim='time').values\n",
    "        bath_pas = dsraw['Pas'].sel(LAF=slice(bath_start, bath_end)).mean(dim='LAF').mean(dim='time').values\n",
    "        delta_stokes = bath_ps - bath_pas\n",
    "        \n",
    "        # Fill in the \"current\" bath locations\n",
    "        ax.fill_between([bath_start, bath_end], 0, 6000, edgecolor='k', facecolor='0.9', alpha=0.8, label='New Baths')\n",
    "\n",
    "        # Power perturbation\n",
    "        ax.plot(dsraw.LAF, dsraw.Pas.mean(dim='time') + delta_stokes, label='Pas')\n",
    "        ax.plot(dsraw.LAF, dsraw.Ps.mean(dim='time'), label='Ps')\n",
    "        \n",
    "        ax.set_xlim(bath_start - .5, bath_end + .5)\n",
    "        ax.set_ylim(bath_ps - 10, bath_ps + 10)\n",
    "\n",
    "        ax.set_ylabel('Power intensity')\n",
    "        ax.set_xlabel('LAF (m)')\n",
    "        ax.xaxis.set_major_locator(MultipleLocator(1))\n",
    "        ax.xaxis.set_major_formatter(FormatStrFormatter('%d'))\n",
    "        ax.xaxis.set_minor_locator(MultipleLocator(.1))\n",
    "ax.legend(loc='upper right', frameon=True)\n",
    "fig.tight_layout()"
   ]
  },
  {
   "cell_type": "code",
   "execution_count": null,
   "metadata": {},
   "outputs": [],
   "source": [
    "# ------------------------\n",
    "# Standarad deviation of power\n",
    "fig, axes = plt.subplots(2, 4, figsize=(12, 6))\n",
    "\n",
    "for nc, c in enumerate(cores):\n",
    "    for bn_num, bn in enumerate(bathnames):\n",
    "        ax = axes[nc, bn_num]\n",
    "        ax.xaxis.grid(True, which='minor')\n",
    "        ax.set_title(c + ': ' + bn)\n",
    "\n",
    "        bath_start = bath_locs_new[bn]['LAF'][c][0]\n",
    "        bath_end = bath_locs_new[bn]['LAF'][c][1]\n",
    "        \n",
    "        # Fill in the \"current\" bath locations\n",
    "        ax.fill_between([bath_start, bath_end], -20, 60, edgecolor='k', facecolor='0.9', alpha=0.8, label='New Baths')\n",
    "\n",
    "        # The instrument reported temperature data\n",
    "        ax.plot(dsraw.LAF, power_timestd.values)\n",
    "\n",
    "        # The previous iteration of bath locations for comparison\n",
    "        ax.plot([bath_locs_prev[bn]['LAF'][c][0], bath_locs_prev[bn]['LAF'][c][0]], [-20, 60], 'k--', label='Old Baths')\n",
    "        ax.plot([bath_locs_prev[bn]['LAF'][c][1], bath_locs_prev[bn]['LAF'][c][1]], [-20, 60], 'k--')\n",
    "        \n",
    "        ax.set_xlim(bath_start - 2, bath_end + 2)\n",
    "        ax.set_ylim(0, 0.015)\n",
    "\n",
    "        ax.set_ylabel(r'$\\sigma(log(\\frac{Ps}{Pas}))$')\n",
    "        ax.set_xlabel('LAF (m)')\n",
    "        ax.xaxis.set_major_locator(MultipleLocator(1))\n",
    "        ax.xaxis.set_major_formatter(FormatStrFormatter('%d'))\n",
    "        ax.xaxis.set_minor_locator(MultipleLocator(.1))\n",
    "ax.legend(loc='upper right', frameon=True)\n",
    "fig.tight_layout()"
   ]
  },
  {
   "cell_type": "markdown",
   "metadata": {},
   "source": [
    "### Spatial derivative of power"
   ]
  },
  {
   "cell_type": "code",
   "execution_count": null,
   "metadata": {},
   "outputs": [],
   "source": [
    "# ------------------------\n",
    "# Standarad deviation of power\n",
    "fig, axes = plt.subplots(2, 4, figsize=(12, 6))\n",
    "\n",
    "# Derivative\n",
    "dP_dLAF = power.diff(dim='LAF').mean(dim='time')\n",
    "dP_dLAF_sigma = power.diff(dim='LAF').std(dim='time')\n",
    "\n",
    "for nc, c in enumerate(cores):\n",
    "    for bn_num, bn in enumerate(bathnames):\n",
    "        ax = axes[nc, bn_num]\n",
    "        ax.xaxis.grid(True, which='minor')\n",
    "        ax.set_title(c + ': ' + bn)\n",
    "\n",
    "        bath_start = bath_locs_new[bn]['LAF'][c][0]\n",
    "        bath_end = bath_locs_new[bn]['LAF'][c][1]\n",
    "\n",
    "        # Fill in the \"current\" bath locations\n",
    "        ax.fill_between([bath_start, bath_end], -20, 60, edgecolor='k', facecolor='0.9', alpha=0.8, label='New Baths')\n",
    "\n",
    "        # The instrument reported temperature data\n",
    "        ax.plot(dsraw.LAF[0:-1], dP_dLAF.values)\n",
    "        ax.fill_between(dsraw.LAF[0:-1].values, dP_dLAF - dP_dLAF_sigma, dP_dLAF + dP_dLAF_sigma, color=flatui[0], alpha=0.5)\n",
    "\n",
    "        # The previous iteration of bath locations for comparison\n",
    "        ax.plot([bath_locs_prev[bn]['LAF'][c][0], bath_locs_prev[bn]['LAF'][c][0]], [-20, 60], 'k--', label='Old Baths')\n",
    "        ax.plot([bath_locs_prev[bn]['LAF'][c][1], bath_locs_prev[bn]['LAF'][c][1]], [-20, 60], 'k--')\n",
    "        \n",
    "        ax.set_xlim(bath_start - 2, bath_end + 2)\n",
    "        ax.set_ylim(-0.05, 0.05)\n",
    "\n",
    "        ax.set_ylabel(r'$\\frac{d(log(\\frac{Ps}{Pas}))}{LAF} (dB/m)$')\n",
    "        ax.set_xlabel('LAF (m)')\n",
    "        ax.xaxis.set_major_locator(MultipleLocator(1))\n",
    "        ax.xaxis.set_major_formatter(FormatStrFormatter('%d'))\n",
    "        ax.xaxis.set_minor_locator(MultipleLocator(.1))\n",
    "ax.legend(loc='upper right', frameon=True)\n",
    "fig.tight_layout()"
   ]
  },
  {
   "cell_type": "markdown",
   "metadata": {},
   "source": [
    "These new bath locations seem to be far enough away from the edge effects. Let's assign these to the `phys_locs` variable and see how the power looks."
   ]
  },
  {
   "cell_type": "code",
   "execution_count": null,
   "metadata": {},
   "outputs": [],
   "source": [
    "for bn in bathnames:\n",
    "    phys_locs[bn]['LAF'] = bath_locs_new[bn]['LAF']"
   ]
  },
  {
   "cell_type": "markdown",
   "metadata": {},
   "source": [
    "## Reference Temperatures"
   ]
  },
  {
   "cell_type": "code",
   "execution_count": null,
   "metadata": {},
   "outputs": [],
   "source": [
    "fig, axes = plt.subplots(2, 1, sharex=True)\n",
    "\n",
    "ax = axes[0]\n",
    "ax.plot(dsraw.time.values, dsraw.warmProbe.values)\n",
    "ax.set_title('Warm Probe')\n",
    "\n",
    "ax = axes[1]\n",
    "ax.plot(dsraw.time.values, dsraw.coldProbe.values)\n",
    "ax.set_title('Cold Probe')\n",
    "\n",
    "fig.autofmt_xdate()\n",
    "fig.tight_layout()"
   ]
  },
  {
   "cell_type": "markdown",
   "metadata": {},
   "source": [
    "The baths look fantastic! No evidence of mechanical strain or power loss within the bath like in previous iterationsn."
   ]
  },
  {
   "cell_type": "markdown",
   "metadata": {},
   "source": [
    "# Splices/Offset Corrections"
   ]
  },
  {
   "cell_type": "code",
   "execution_count": null,
   "metadata": {},
   "outputs": [],
   "source": [
    "splice_config = 'LOVE_Simba_north_190715'\n",
    "os.chdir(os.path.join(dir_pre, 'love_dts', splice_config, 'raw_netcdf'))\n",
    "splice_files = 'raw_channel 1_20190716-1[2-6]*.nc'\n",
    "dsraw_splice = xr.open_mfdataset(splice_files)\n",
    "print(dsraw_splice)"
   ]
  },
  {
   "cell_type": "code",
   "execution_count": null,
   "metadata": {},
   "outputs": [],
   "source": [
    "splice_names = ['conedsplice1', 'conedsplice2']\n",
    "steploss_corr = {'conedsplice1': {'core A': 0.0, 'core B': 0.0},\n",
    "                 'conedsplice2': {'core A': -0.0003, 'core B': 0.0},\n",
    "                }\n",
    "splice_times = {'conedsplice1': ['2019-07-16 12:40:00', '2019-07-16 13:35:00'],\n",
    "                'conedsplice2': ['2019-07-16 14:30:00', '2019-07-16 14:42:00'],\n",
    "               }\n",
    "\n",
    "for nc, c in enumerate(cores):\n",
    "    for n_spl, spl in enumerate(splice_names):\n",
    "        fig, axes = plt.subplots(4, 1, figsize=(6, 6), sharex=True)\n",
    "        \n",
    "        splice_corr = dsraw_splice.sel(time=slice(splice_times[spl][0], splice_times[spl][1])).mean(dim='time')\n",
    "        splice_corr['power'] = np.log(splice_corr.Ps / splice_corr.Pas)\n",
    "        \n",
    "        splice_beg = phys_locs[spl]['LAF'][c][0]\n",
    "        splice_end = phys_locs[spl]['LAF'][c][1]\n",
    "        splice_LAF = np.mean([splice_beg, splice_end])\n",
    "        mean_power = splice_corr['power'].sel(LAF=slice(splice_beg, splice_end)).mean(dim='LAF').values\n",
    "\n",
    "        splice_corr['corr_power'] = splice_corr.power.where((splice_corr.LAF < splice_LAF), splice_corr.power + steploss_corr[spl][c])\n",
    "\n",
    "        # Power plot\n",
    "        ax = axes[0]\n",
    "        ax.plot(splice_corr.LAF, splice_corr['power'].values - mean_power, label='Original')\n",
    "        ax.plot(splice_corr.LAF, splice_corr['corr_power'].values - mean_power, label='Corrected')\n",
    "        ax.fill_between([splice_beg, splice_end], -10, 50, edgecolor='0.8', facecolor='0.9', alpha=0.8)\n",
    "        \n",
    "        ax.legend()\n",
    "        ax.set_ylim(-.002, 0.002)\n",
    "        ax.set_ylabel('log(Ps/Pas)')\n",
    "        ax.set_title(spl + ' ' + c)\n",
    "        \n",
    "        # Temperature plot\n",
    "        ax = axes[1]\n",
    "        ax.plot(splice_corr.LAF, splice_corr['temp'].values, label='Instr. Reported')\n",
    "        ax.fill_between([splice_beg, splice_end], 0, 50, edgecolor='0.8', facecolor='0.9', alpha=0.8)\n",
    "\n",
    "        ax.set_ylabel('Temperature (C)')\n",
    "        ax.set_xlim(splice_beg - 0.5, splice_end + 0.5)\n",
    "        ax.set_xlabel('LAF (m)')\n",
    "        ax.set_ylim(15, 25)\n",
    "        \n",
    "        # Standard deviation of power ratios -- max in time\n",
    "        ax = axes[2]\n",
    "        rolling_Ps = dsraw_splice.sel(time=slice(splice_times[spl][0], splice_times[spl][1]))['Ps'].rolling(LAF=10, center=True).std().max(dim='time')\n",
    "        rolling_Pas = dsraw_splice.sel(time=slice(splice_times[spl][0], splice_times[spl][1]))['Pas'].rolling(LAF=10, center=True).std().max(dim='time')\n",
    "        ax.plot(rolling_Ps.LAF, rolling_Ps.values, label='Ps')\n",
    "        ax.plot(rolling_Pas.LAF, rolling_Pas.values, label='Pas')\n",
    "        ax.fill_between([splice_beg, splice_end], 0, 50, edgecolor='0.8', facecolor='0.9', alpha=0.8)\n",
    "\n",
    "        ax.legend()\n",
    "        ax.set_ylabel('$\\sigma(LAF=10)$, max in time')\n",
    "        ax.set_xlim(splice_beg - 0.5, splice_end + 0.5)\n",
    "        ax.set_xlabel('LAF (m)')\n",
    "        ax.set_ylim(0, 100)\n",
    "        \n",
    "        # Standard deviation of power ratios\n",
    "        ax = axes[3]\n",
    "        rolling_Ps = dsraw_splice.sel(time=slice(splice_times[spl][0], splice_times[spl][1]))['Ps'].rolling(LAF=10, center=True).std().mean(dim='time')\n",
    "        rolling_Pas = dsraw_splice.sel(time=slice(splice_times[spl][0], splice_times[spl][1]))['Pas'].rolling(LAF=10, center=True).std().mean(dim='time')\n",
    "        ax.plot(rolling_Ps.LAF, rolling_Ps.values - rolling_Pas.values)\n",
    "        ax.fill_between([splice_beg, splice_end], 0, 50, edgecolor='0.8', facecolor='0.9', alpha=0.8)\n",
    "        ax.plot([0, dsraw.LAF.max()], [0, 0], 'k--')\n",
    "        ax.set_ylabel('$\\overline{\\sigma(P_s)} - \\overline{\\sigma{P_{as}}}$')\n",
    "        ax.set_xlim(splice_beg - 0.5, splice_end + 0.5)\n",
    "        ax.set_xlabel('LAF (m)')\n",
    "        ax.set_ylim(-50, 10)\n"
   ]
  },
  {
   "cell_type": "markdown",
   "metadata": {},
   "source": [
    "ZERO STEP LOSS! Anita did an amazing job on these splices. The grey region is the estimated length of fiber inside the ambient temperature bath, found using an ice pack on the fiber as it enters/leaves the bath. The time averaged over is the time that the fiber was within the bath only, which varies between ten minutes and an hour depending on experimental factors."
   ]
  },
  {
   "cell_type": "markdown",
   "metadata": {},
   "source": [
    "# Mapping the vertically-hanging sections\n",
    "\n",
    "The mapping never included the tops of the vertical segments. We have to infer those using artifacts and intuition. Starting with the cable hanging on the tower.\n",
    "\n",
    "## Original Tower Mapping\n",
    "\n",
    "Mapped at bottom -- clearly some problems in the location at the bottom relative to the fiber holders. For instance the bottom of the tower does not line up between the two cores. These values should not change for posterity!\n",
    "\n",
    "The tower regions were found using the exact height difference between the two fiber holders. Clearly we grab a bit of the top fiber holder, but this is within a bin or two of the tower fiber that is free of artifacts from the disk. We will need to adjust the physical locations to be a bit shorter, accounting for the disk size and the propagation of the holder artifacts.\n",
    "\n",
    "## Estimate the artifact distance\n",
    "\n",
    "How far above the mapped point do we need to be in order to get away from the holder artifact? How much of the increase in temperature noise is due to being by the ground vs holder?"
   ]
  },
  {
   "cell_type": "code",
   "execution_count": null,
   "metadata": {},
   "outputs": [],
   "source": [
    "sections_A = [180, 208]\n",
    "sections_B = [1608, 1635]\n",
    "\n",
    "tower_height = 11.06\n",
    "d_art = 0.0\n",
    "sections_B_un = [1610.7 + d_art, 1610.7 + 11.06 - d_art]\n",
    "sections_B_h = [1633.7 - d_art, 1633.7 - 11.06 + d_art]\n",
    "sections_A_un = [181.4 + d_art, 181.4 + 11.06 - d_art]\n",
    "sections_A_h = [204.6 - d_art, 204.6 - 11.06 + d_art]\n",
    "sections = {'B Un': sections_B_un, 'B H': sections_B_h,\n",
    "            'A Un': sections_A_un, 'A H': sections_A_h}\n",
    "\n",
    "fig, axes = plt.subplots(2, 3, figsize=(16, 8), sharex='col', sharey='row')\n",
    "axes = axes.flatten()\n",
    "\n",
    "# Core A tower -- MEAN\n",
    "ax = axes[0]\n",
    "ax.set_title('Core A Tower')\n",
    "    \n",
    "ax.plot(dsraw.LAF, dsraw_mean.values, '-o', label='instr. temp')\n",
    "ax.fill_between(dsraw.LAF, dsraw_mean.values - dsraw_std.values, dsraw_mean.values + dsraw_std.values, color=flatui[0], alpha=0.5)\n",
    "\n",
    "ax.fill_between(sections_A_un, 0, 50, edgecolor='0.8', facecolor='0.9', alpha=0.8)\n",
    "ax.text(np.mean(sections_A_un), 4, 'unheated')\n",
    "ax.fill_between(sections_A_h, 0, 50, edgecolor='0.8', facecolor='0.9', alpha=0.8)\n",
    "ax.text(np.mean(sections_A_h), 4, 'heated')\n",
    "\n",
    "ax.set_xlim(sections_A)\n",
    "ax.set_ylabel('Temperature (C)')\n",
    "\n",
    "# Core A tower -- STD\n",
    "ax = axes[3]\n",
    "ax.plot(dsraw.LAF, dsraw_std.values, label='instr. temp')\n",
    "ax.fill_between(sections_A_un, 0, 50, color='0.8')\n",
    "ax.fill_between(sections_A_h, 0, 50, color='0.8')\n",
    "ax.set_ylim(0, 5)\n",
    "ax.set_ylabel('Std of temperature in time (C)')\n",
    "ax.set_xlabel('LAF (m)')\n",
    "\n",
    "# Core B tower -- MEAN\n",
    "ax = axes[1]\n",
    "ax.set_title('Core B Tower')\n",
    "    \n",
    "ax.plot(dsraw.LAF, dsraw_mean.values, '-o', label='instr. temp')\n",
    "ax.fill_between(dsraw.LAF, dsraw_mean.values - dsraw_std.values, dsraw_mean.values + dsraw_std.values, color=flatui[0], alpha=0.5)\n",
    "\n",
    "ax.fill_between(sections_B_un, 0, 50, edgecolor='0.8', facecolor='0.9', alpha=0.8)\n",
    "ax.text(np.mean(sections_B_un), 4, 'unheated')\n",
    "ax.fill_between(sections_B_h, 0, 50, edgecolor='0.8', facecolor='0.9', alpha=0.8)\n",
    "ax.text(np.mean(sections_B_h), 4, 'heated')\n",
    "\n",
    "ax.set_xlim(sections_B)\n",
    "ax.set_ylabel('Temperature (C)')\n",
    "\n",
    "# Core B tower -- STD\n",
    "ax = axes[4]\n",
    "ax.plot(dsraw.LAF, dsraw_std.values, label='instr. temp')\n",
    "ax.fill_between(sections_B_un, 0, 50, color='0.8')\n",
    "ax.fill_between(sections_B_h, 0, 50, color='0.8')\n",
    "ax.set_ylim(0, 5)\n",
    "ax.set_ylabel('Std of temperature in time (C)')\n",
    "ax.set_xlabel('LAF (m)')\n",
    "\n",
    "# HEIGHT ALONG THE TOWER\n",
    "ax = axes[2]\n",
    "ax.set_title('Height above ground')\n",
    "\n",
    "for s in sections:\n",
    "    LAF1 = min(sections[s])\n",
    "    LAF2 = max(sections[s])\n",
    "    plot_ds = dsraw.loc[dict(LAF=(dsraw.LAF > LAF1)\n",
    "                             & (dsraw.LAF < LAF2))]\n",
    "    if sections[s][0] > sections[s][1]:\n",
    "        plot_ds['LAF'] = np.flip(plot_ds.LAF.values, 0)\n",
    "        plot_ds.coords['z'] = plot_ds.LAF - plot_ds.LAF[-1]\n",
    "    else:\n",
    "        plot_ds.coords['z'] = plot_ds.LAF - plot_ds.LAF[0]\n",
    "    \n",
    "    ax = axes[2]\n",
    "    ax.plot(plot_ds.z.values, plot_ds.temp.mean(dim='time').values, '-o', label=s)\n",
    "    ax.set_ylim(np.min(plot_ds.temp.values), np.max(plot_ds.temp.values))\n",
    "    \n",
    "    ax = axes[5]\n",
    "    ax.plot(plot_ds.z.values, plot_ds.temp.std(dim='time').values, label=s)\n",
    "\n",
    "ax = axes[2]\n",
    "ax.legend()\n",
    "\n",
    "fig.tight_layout()"
   ]
  },
  {
   "cell_type": "markdown",
   "metadata": {},
   "source": [
    "### Adjusted tower locations\n",
    "\n",
    "Making the two cores consistent with each other. First looking at the artifacts during the day (July 31st 1200-1400)."
   ]
  },
  {
   "cell_type": "code",
   "execution_count": null,
   "metadata": {},
   "outputs": [],
   "source": [
    "os.chdir(dir_data_raw)\n",
    "dsraw = xr.open_mfdataset('raw_channel 1_20190731-1[2-4]*.nc')\n",
    "# dsraw = xr.open_mfdataset('raw_channel 1_20190801-03*.nc')\n",
    "# dsraw = xr.open_mfdataset('/Users/karllapo/Desktop/proj/DarkMix_Voitsumra/love_dts/LOVE_Simba_north_artifacts_190730_sample/raw_netcdf/raw_channel 1_20190801-0015.nc')\n",
    "\n",
    "dsraw_mean = dsraw.temp.mean(dim='time')\n",
    "dsraw_std = dsraw.temp.std(dim='time')"
   ]
  },
  {
   "cell_type": "code",
   "execution_count": null,
   "metadata": {},
   "outputs": [],
   "source": [
    "sections_A = [180, 208]\n",
    "sections_B = [1608, 1635]\n",
    "\n",
    "tower_height = 11.06\n",
    "d_art = 0.0\n",
    "sections_B_h = [1610.4 + d_art, 1610.4 + tower_height - d_art]\n",
    "sections_B_un = [1633.7 - d_art, 1633.7 - tower_height + d_art]\n",
    "sections_A_un = [181.4 + d_art, 181.4 + tower_height - d_art]\n",
    "sections_A_h = [204.6 - d_art, 204.6 - tower_height + d_art]\n",
    "sections = {'B Un': sections_B_un, 'B H': sections_B_h,\n",
    "            'A Un': sections_A_un, 'A H': sections_A_h}\n",
    "\n",
    "fig, axes = plt.subplots(2, 3, figsize=(16, 8), sharex='col', sharey='row')\n",
    "axes = axes.flatten()\n",
    "\n",
    "# Core A tower -- MEAN\n",
    "ax = axes[0]\n",
    "ax.set_title('Core A Tower')\n",
    "    \n",
    "ax.plot(dsraw.LAF, dsraw_mean.values, '-o', label='instr. temp')\n",
    "ax.fill_between(dsraw.LAF, dsraw_mean.values - dsraw_std.values, dsraw_mean.values + dsraw_std.values, color=flatui[0], alpha=0.5)\n",
    "\n",
    "ax.fill_between(sections_A_un, 0, 50, edgecolor='k', facecolor='0.9', alpha=0.8)\n",
    "ax.text(np.mean(sections_A_un), 20, 'unheated')\n",
    "ax.fill_between(sections_A_h, 0, 50, edgecolor='k', facecolor='0.9', alpha=0.8)\n",
    "ax.text(np.mean(sections_A_h), 20, 'heated')\n",
    "\n",
    "ax.set_xlim(sections_A)\n",
    "ax.set_ylabel('Temperature (C)')\n",
    "\n",
    "# Core A tower -- STD\n",
    "ax = axes[3]\n",
    "ax.plot(dsraw.LAF, dsraw_std.values, label='instr. temp')\n",
    "ax.fill_between(sections_A_un, 0, 50, edgecolor='k', facecolor='0.9', alpha=0.8)\n",
    "ax.fill_between(sections_A_h, 0, 50, edgecolor='k', facecolor='0.9', alpha=0.8)\n",
    "ax.set_ylim(0, 5)\n",
    "ax.set_ylabel('Std of temperature in time (C)')\n",
    "ax.set_xlabel('LAF (m)')\n",
    "\n",
    "# Core B tower -- MEAN\n",
    "ax = axes[1]\n",
    "ax.set_title('Core B Tower')\n",
    "    \n",
    "ax.plot(dsraw.LAF, dsraw_mean.values, '-o', label='instr. temp')\n",
    "ax.fill_between(dsraw.LAF, dsraw_mean.values - dsraw_std.values, dsraw_mean.values + dsraw_std.values, color=flatui[0], alpha=0.5)\n",
    "\n",
    "ax.fill_between(sections_B_un, 0, 50, edgecolor='k', facecolor='0.9', alpha=0.8)\n",
    "ax.text(np.mean(sections_B_un), 20, 'unheated')\n",
    "ax.fill_between(sections_B_h, 0, 50, edgecolor='k', facecolor='0.9', alpha=0.8)\n",
    "ax.text(np.mean(sections_B_h), 20, 'heated')\n",
    "\n",
    "ax.set_xlim(sections_B)\n",
    "ax.set_ylabel('Temperature (C)')\n",
    "\n",
    "# Core B tower -- STD\n",
    "ax = axes[4]\n",
    "ax.plot(dsraw.LAF, dsraw_std.values, label='instr. temp')\n",
    "ax.fill_between(sections_B_un, 0, 50, edgecolor='k', facecolor='0.9', alpha=0.8)\n",
    "ax.fill_between(sections_B_h, 0, 50, edgecolor='k', facecolor='0.9', alpha=0.8)\n",
    "ax.set_ylim(0, 5)\n",
    "ax.set_ylabel('Std of temperature in time (C)')\n",
    "ax.set_xlabel('LAF (m)')\n",
    "\n",
    "# HEIGHT ALONG THE TOWER\n",
    "ax = axes[2]\n",
    "ax.set_title('Height above ground')\n",
    "\n",
    "# Only indicate the distance of artifacts in the plots, not in the reported distances.\n",
    "d_art = 0.3\n",
    "\n",
    "for s in sections:\n",
    "    LAF1 = min(sections[s])\n",
    "    LAF2 = max(sections[s])\n",
    "    plot_ds = dsraw.loc[dict(LAF=(dsraw.LAF > LAF1)\n",
    "                             & (dsraw.LAF < LAF2))]\n",
    "    if sections[s][0] > sections[s][1]:\n",
    "        plot_ds['LAF'] = np.flip(plot_ds.LAF.values, 0)\n",
    "        plot_ds.coords['z'] = plot_ds.LAF - plot_ds.LAF[-1]\n",
    "    else:\n",
    "        plot_ds.coords['z'] = plot_ds.LAF - plot_ds.LAF[0]\n",
    "    \n",
    "    ax = axes[2]\n",
    "    ax.plot(plot_ds.z.values, plot_ds.temp.mean(dim='time').values, '-o', label=s)\n",
    "    ax.fill_between([0, d_art], 0, 50, edgecolor='k', facecolor='0.9', alpha=0.8)\n",
    "    ax.fill_between([tower_height - d_art, tower_height], 0, 50, edgecolor='k', facecolor='0.9', alpha=0.8)\n",
    "    ax.set_ylim(16, 26)\n",
    "\n",
    "    ax = axes[5]\n",
    "    ax.plot(plot_ds.z.values, plot_ds.temp.std(dim='time').values, label=s)\n",
    "    ax.fill_between([0, d_art], 0, 50, edgecolor='k', facecolor='0.9', alpha=0.8)\n",
    "    ax.fill_between([tower_height - d_art, tower_height], 0, 50, edgecolor='k', facecolor='0.9', alpha=0.8)\n",
    "    ax.set_ylim(0, 5)\n",
    "\n",
    "ax = axes[2]\n",
    "ax.legend()\n",
    "\n",
    "fig.tight_layout()"
   ]
  },
  {
   "cell_type": "markdown",
   "metadata": {},
   "source": [
    "The patterns between legs (heated and unheated) match better. The pattern between cores is a little off, e.g., the standard deviation of fiber temperature in the lower right. This is close enough for now. Below are the section LAF's to insert into the mapping excel sheet. This does not include the distance affected by artifacts, `d_art`, which I am estimating to be 0.3m (indicated by the grey regions in the right hand column)."
   ]
  },
  {
   "cell_type": "code",
   "execution_count": null,
   "metadata": {},
   "outputs": [],
   "source": [
    "print('A Unheated: ' + str(sections_A_un))\n",
    "print('A Heated: ' + str(sections_A_h))\n",
    "print('B Unheated: ' + str(sections_B_un))\n",
    "print('B Heated: ' + str(sections_B_h))"
   ]
  },
  {
   "cell_type": "markdown",
   "metadata": {},
   "source": [
    "## Tower - Nighttime\n",
    "\n",
    "Let's first make sure that these perceived limits are unaffected by the time of day/conditions. The above is for a time slice at noon. The below is loading a time slice between 0000-0200."
   ]
  },
  {
   "cell_type": "code",
   "execution_count": null,
   "metadata": {},
   "outputs": [],
   "source": [
    "os.chdir(dir_data_raw)\n",
    "dsraw = xr.open_mfdataset('raw_channel 1_20190801-0[1-2]*.nc')\n",
    "# dsraw = xr.open_mfdataset('raw_channel 1_20190801-03*.nc')\n",
    "# dsraw = xr.open_mfdataset('/Users/karllapo/Desktop/proj/DarkMix_Voitsumra/love_dts/LOVE_Simba_north_artifacts_190730_sample/raw_netcdf/raw_channel 1_20190801-0015.nc')\n",
    "\n",
    "dsraw_mean = dsraw.temp.mean(dim='time')\n",
    "dsraw_std = dsraw.temp.std(dim='time')"
   ]
  },
  {
   "cell_type": "code",
   "execution_count": null,
   "metadata": {},
   "outputs": [],
   "source": [
    "sections_A = [180, 208]\n",
    "sections_B = [1608, 1635]\n",
    "\n",
    "tower_height = 11.06\n",
    "d_art = 0.0\n",
    "sections_B_h = [1610.4 + d_art, 1610.4 + 11.06 - d_art]\n",
    "sections_B_un = [1633.7 - d_art, 1633.7 - 11.06 + d_art]\n",
    "sections_A_un = [181.4 + d_art, 181.4 + 11.06 - d_art]\n",
    "sections_A_h = [204.6 - d_art, 204.6 - 11.06 + d_art]\n",
    "sections = {'B Un': sections_B_un, 'B H': sections_B_h,\n",
    "            'A Un': sections_A_un, 'A H': sections_A_h}\n",
    "\n",
    "fig, axes = plt.subplots(2, 3, figsize=(16, 8), sharex='col', sharey='row')\n",
    "axes = axes.flatten()\n",
    "\n",
    "# Core A tower -- MEAN\n",
    "ax = axes[0]\n",
    "ax.set_title('Core A Tower')\n",
    "    \n",
    "ax.plot(dsraw.LAF, dsraw_mean.values, '-o', label='instr. temp')\n",
    "ax.fill_between(dsraw.LAF, dsraw_mean.values - dsraw_std.values, dsraw_mean.values + dsraw_std.values, color=flatui[0], alpha=0.5)\n",
    "\n",
    "ax.fill_between(sections_A_un, 0, 50, edgecolor='k', facecolor='0.9', alpha=0.8)\n",
    "ax.text(np.mean(sections_A_un), 10, 'unheated')\n",
    "ax.fill_between(sections_A_h, 0, 50, edgecolor='k', facecolor='0.9', alpha=0.8)\n",
    "ax.text(np.mean(sections_A_h), 10, 'heated')\n",
    "\n",
    "ax.set_xlim(sections_A)\n",
    "ax.set_ylabel('Temperature (C)')\n",
    "\n",
    "# Core A tower -- STD\n",
    "ax = axes[3]\n",
    "ax.plot(dsraw.LAF, dsraw_std.values, label='instr. temp')\n",
    "ax.fill_between(sections_A_un, 0, 50, edgecolor='k', facecolor='0.9', alpha=0.8)\n",
    "ax.fill_between(sections_A_h, 0, 50, edgecolor='k', facecolor='0.9', alpha=0.8)\n",
    "ax.set_ylim(0, 5)\n",
    "ax.set_ylabel('Std of temperature in time (C)')\n",
    "ax.set_xlabel('LAF (m)')\n",
    "\n",
    "# Core B tower -- MEAN\n",
    "ax = axes[1]\n",
    "ax.set_title('Core B Tower')\n",
    "    \n",
    "ax.plot(dsraw.LAF, dsraw_mean.values, '-o', label='instr. temp')\n",
    "ax.fill_between(dsraw.LAF, dsraw_mean.values - dsraw_std.values, dsraw_mean.values + dsraw_std.values, color=flatui[0], alpha=0.5)\n",
    "\n",
    "ax.fill_between(sections_B_un, 0, 50, edgecolor='k', facecolor='0.9', alpha=0.8)\n",
    "ax.text(np.mean(sections_B_un), 10, 'unheated')\n",
    "ax.fill_between(sections_B_h, 0, 50, edgecolor='k', facecolor='0.9', alpha=0.8)\n",
    "ax.text(np.mean(sections_B_h), 10, 'heated')\n",
    "\n",
    "ax.set_xlim(sections_B)\n",
    "ax.set_ylabel('Temperature (C)')\n",
    "\n",
    "# Core B tower -- STD\n",
    "ax = axes[4]\n",
    "ax.plot(dsraw.LAF, dsraw_std.values, label='instr. temp')\n",
    "ax.fill_between(sections_B_un, 0, 50, edgecolor='k', facecolor='0.9', alpha=0.8)\n",
    "ax.fill_between(sections_B_h, 0, 50, edgecolor='k', facecolor='0.9', alpha=0.8)\n",
    "ax.set_ylim(0, 5)\n",
    "ax.set_ylabel('Std of temperature in time (C)')\n",
    "ax.set_xlabel('LAF (m)')\n",
    "\n",
    "# HEIGHT ALONG THE TOWER\n",
    "ax = axes[2]\n",
    "ax.set_title('Height above ground')\n",
    "\n",
    "# Only indicate the distance of artifacts in the plots, not in the reported distances.\n",
    "d_art = 0.3\n",
    "\n",
    "for s in sections:\n",
    "    LAF1 = min(sections[s])\n",
    "    LAF2 = max(sections[s])\n",
    "    plot_ds = dsraw.loc[dict(LAF=(dsraw.LAF > LAF1)\n",
    "                             & (dsraw.LAF < LAF2))]\n",
    "    if sections[s][0] > sections[s][1]:\n",
    "        plot_ds['LAF'] = np.flip(plot_ds.LAF.values, 0)\n",
    "        plot_ds.coords['z'] = plot_ds.LAF - plot_ds.LAF[-1]\n",
    "    else:\n",
    "        plot_ds.coords['z'] = plot_ds.LAF - plot_ds.LAF[0]\n",
    "    \n",
    "    ax = axes[2]\n",
    "    ax.plot(plot_ds.z.values, plot_ds.temp.mean(dim='time').values, '-o', label=s)\n",
    "    ax.fill_between([0, d_art], 0, 50, edgecolor='k', facecolor='0.9', alpha=0.8)\n",
    "    ax.fill_between([tower_height - d_art, tower_height], 0, 50, edgecolor='k', facecolor='0.9', alpha=0.8)\n",
    "    ax.set_ylim(np.min(plot_ds.temp.values), np.max(plot_ds.temp.values))\n",
    "\n",
    "    ax = axes[5]\n",
    "    ax.plot(plot_ds.z.values, plot_ds.temp.std(dim='time').values, label=s)\n",
    "    ax.fill_between([0, d_art], 0, 50, edgecolor='k', facecolor='0.9', alpha=0.8)\n",
    "    ax.fill_between([tower_height - d_art, tower_height], 0, 50, edgecolor='k', facecolor='0.9', alpha=0.8)\n",
    "    ax.set_ylim(0, 5)\n",
    "\n",
    "ax = axes[2]\n",
    "ax.legend()\n",
    "ax = axes[5]\n",
    "ax.set_xlabel('Height above ground (m)')\n",
    "\n",
    "fig.tight_layout()"
   ]
  },
  {
   "cell_type": "markdown",
   "metadata": {},
   "source": [
    "Any further verification will have to wait until after the calibration since we will need to match between cores. There appears to be some variation of where the artifacts are depending on the time of day/conditions.\n",
    "\n",
    "Had to flip the core B tower labels -- I forgot that core B is the reverse of core A.\n",
    "\n",
    "### Vertical segment mapping check - Core A"
   ]
  },
  {
   "cell_type": "code",
   "execution_count": null,
   "metadata": {},
   "outputs": [],
   "source": [
    "# Read location library\n",
    "phys_locs_file = '/Users/karllapo/Desktop/proj/DarkMix_Voitsumra/love_dts/NorthSimba_towermane_physloc.v6_190906.yml'\n",
    "phys_locs = yaml.load(phys_locs_file)\n",
    "with open(phys_locs_file, 'r') as stream:\n",
    "    phys_locs = yaml.load(stream)\n",
    "phys_locs = phys_locs['location_library']\n",
    "\n",
    "fig, ax = plt.subplots(1, 1, figsize=(16, 8))\n",
    "LAF1 = 390\n",
    "LAF2 = 515\n",
    "ax.plot(dsraw.LAF, dsraw['temp'].mean(dim='time').values)\n",
    "offset = 0\n",
    "for l in phys_locs:\n",
    "    if 'Vertical' in phys_locs[l]['long name']:\n",
    "        for c in cores:\n",
    "            loc = np.mean(phys_locs[l]['LAF'][c])\n",
    "            if loc > LAF1 and loc < LAF2:\n",
    "                offset = offset + 0.2\n",
    "                ax.fill_between(phys_locs[l]['LAF'][c], 0, 50, edgecolor='k', facecolor='0.9', alpha=0.8)\n",
    "                ax.text(np.mean(phys_locs[l]['LAF'][c]) - 3, 0 + offset, l)\n",
    "            \n",
    "ax.set_ylabel('Temperature')\n",
    "ax.set_ylim(0, 10)\n",
    "ax.set_xlim(LAF1, LAF2)"
   ]
  },
  {
   "cell_type": "markdown",
   "metadata": {},
   "source": [
    "I had to correc the vertical segments. The top of the vertical arrays were never mapped. I incorrectly estimated the LAF of the top of the array when setting up the mapping document. This is now fixed in v6 of the mapping yaml file and in the excel document for 190906.\n",
    "\n",
    "#### Vertical segments Core B"
   ]
  },
  {
   "cell_type": "code",
   "execution_count": null,
   "metadata": {},
   "outputs": [],
   "source": [
    "# Read location library\n",
    "phys_locs_file = '/Users/karllapo/Desktop/proj/DarkMix_Voitsumra/love_dts/NorthSimba_towermane_physloc.v6_190906.yml'\n",
    "phys_locs = yaml.load(phys_locs_file)\n",
    "with open(phys_locs_file, 'r') as stream:\n",
    "    phys_locs = yaml.load(stream)\n",
    "phys_locs = phys_locs['location_library']\n",
    "\n",
    "fig, ax = plt.subplots(1, 1, figsize=(16, 8))\n",
    "LAF1 = 1315\n",
    "LAF2 = 1340\n",
    "ax.plot(dsraw.LAF, dsraw['temp'].mean(dim='time').values)\n",
    "offset = 0\n",
    "for l in phys_locs:\n",
    "    if 'Vertical' in phys_locs[l]['long name']:\n",
    "        for c in cores:\n",
    "            loc = np.mean(phys_locs[l]['LAF'][c])\n",
    "            if loc > LAF1 and loc < LAF2:\n",
    "                offset = offset + 0.2\n",
    "                ax.fill_between(phys_locs[l]['LAF'][c], 0, 50, edgecolor='k', facecolor='0.9', alpha=0.8)\n",
    "                ax.text(np.mean(phys_locs[l]['LAF'][c]), 0 + offset, l)\n",
    "            \n",
    "ax.set_ylabel('Temperature')\n",
    "ax.set_ylim(0, 10)\n",
    "ax.set_xlim(LAF1, LAF2)"
   ]
  },
  {
   "cell_type": "markdown",
   "metadata": {},
   "source": [
    "The fiber holder locations are incorrect for the north simba, core B. It _appears_ like the fiber holder locations migrate a little depending on the time of day. This is somewhat alarming and needs to be looked into later.\n",
    "\n",
    "#### Horizontal core A"
   ]
  },
  {
   "cell_type": "code",
   "execution_count": null,
   "metadata": {},
   "outputs": [],
   "source": [
    "# Read location library\n",
    "phys_locs_file = '/Users/karllapo/Desktop/proj/DarkMix_Voitsumra/love_dts/NorthSimba_towermane_physloc.v6_190906.yml'\n",
    "phys_locs = yaml.load(phys_locs_file)\n",
    "with open(phys_locs_file, 'r') as stream:\n",
    "    phys_locs = yaml.load(stream)\n",
    "phys_locs = phys_locs['location_library']\n",
    "\n",
    "fig, ax = plt.subplots(1, 1, figsize=(16, 8))\n",
    "LAF1 = 240\n",
    "LAF2 = 320\n",
    "ax.plot(dsraw.LAF, dsraw['temp'].mean(dim='time').values)\n",
    "offset = 0\n",
    "for l in phys_locs:\n",
    "    if 'Horizontal' in phys_locs[l]['long name']:\n",
    "        for c in cores:\n",
    "            loc = np.mean(phys_locs[l]['LAF'][c])\n",
    "            if loc > LAF1 and loc < LAF2:\n",
    "                offset = offset + 0.2\n",
    "                ax.fill_between(phys_locs[l]['LAF'][c], 0, 50, edgecolor='k', facecolor='0.9', alpha=0.8)\n",
    "                ax.text(np.mean(phys_locs[l]['LAF'][c]) - 3, 0 + offset, l)\n",
    "            \n",
    "ax.set_ylabel('Temperature')\n",
    "ax.set_ylim(0, 10)\n",
    "ax.set_xlim(LAF1, LAF2)"
   ]
  },
  {
   "cell_type": "markdown",
   "metadata": {},
   "source": [
    "The horizontal sections for core A seem to be just fine. The boundaries line up with the step changes in temperature.\n",
    "\n",
    "#### Horizontal core B"
   ]
  },
  {
   "cell_type": "code",
   "execution_count": null,
   "metadata": {},
   "outputs": [],
   "source": [
    "# Read location library\n",
    "phys_locs_file = '/Users/karllapo/Desktop/proj/DarkMix_Voitsumra/love_dts/NorthSimba_towermane_physloc.v6_190906.yml'\n",
    "phys_locs = yaml.load(phys_locs_file)\n",
    "with open(phys_locs_file, 'r') as stream:\n",
    "    phys_locs = yaml.load(stream)\n",
    "phys_locs = phys_locs['location_library']\n",
    "\n",
    "fig, ax = plt.subplots(1, 1, figsize=(16, 8))\n",
    "LAF1 = 1420\n",
    "LAF2 = 1500\n",
    "ax.plot(dsraw.LAF, dsraw['temp'].mean(dim='time').values)\n",
    "offset = 0\n",
    "for l in phys_locs:\n",
    "    if 'Horizontal' in phys_locs[l]['long name']:\n",
    "        for c in cores:\n",
    "            loc = np.mean(phys_locs[l]['LAF'][c])\n",
    "            if loc > LAF1 and loc < LAF2:\n",
    "                offset = offset + 0.2\n",
    "                ax.fill_between(phys_locs[l]['LAF'][c], 0, 50, edgecolor='k', facecolor='0.9', alpha=0.8)\n",
    "                ax.text(np.mean(phys_locs[l]['LAF'][c]) - 3, 0 + offset, l)\n",
    "            \n",
    "ax.set_ylabel('Temperature')\n",
    "ax.set_ylim(0, 10)\n",
    "ax.set_xlim(LAF1, LAF2)"
   ]
  },
  {
   "cell_type": "markdown",
   "metadata": {},
   "source": [
    "Again, the `core B` locations seem to be right shifted relative to the temperature changes. This is now apparent in the vertical fiber, horizontal fiber, and tower."
   ]
  },
  {
   "cell_type": "markdown",
   "metadata": {},
   "source": [
    "### Step losses and other fiber problems\n",
    "\n",
    "The calibration is consistently off for `core A`. This manifests itself as a persistent bias in the validation bath that is approximately 0.25C in magnitude. See the `calibration_tests` notebook for more details on attempts to fix this problem through different approaches to calibration. This section of this notebook attempts to identify any problems in the fiber that could be creating these issues. These investigations include:\n",
    "\n",
    "- spatial standard deviation in $P_s$ and $P_{as}$, which Hausner 2016 states as the method for finding step losses. The stokes scattering is less senstive to temperature changes than the anti-stokes scattering. We use this behavior to find locations where the stokes scattering has more variability than the anti-stokes scattering, which may indicate a step loss. This method only truly identifies a step loss at the splice between cores. There are other bizarre behaviors that fall out of this analysis, but none related to step losses\n",
    "- standard deviation in the power, similar to the quality checks of the bath from above.\n",
    "\n",
    "### Standard deviation of $log(\\frac{P_s}{P_{as}})$"
   ]
  },
  {
   "cell_type": "code",
   "execution_count": null,
   "metadata": {},
   "outputs": [],
   "source": [
    "power = np.log(dsraw.Ps / dsraw.Pas)\n",
    "power_timeavg = power.mean(dim='time')\n",
    "power_timestd = power.std(dim='time')"
   ]
  },
  {
   "cell_type": "code",
   "execution_count": null,
   "metadata": {},
   "outputs": [],
   "source": [
    "# LAF of std\n",
    "fig, ax = plt.subplots(figsize=(8, 5))\n",
    "ax.plot(power.LAF, power_timestd.values)\n",
    "\n",
    "ax.set_ylim(0.00, 0.015)\n",
    "ax.set_xlim(880, 930)"
   ]
  },
  {
   "cell_type": "markdown",
   "metadata": {},
   "source": [
    "$\\sigma(log(\\frac{P_s}{P_{as}}))$ is not able to even identify the step loss associated with the splice between cores.\n",
    "\n",
    "## $\\sigma(P_s(t))$ and $\\sigma(P_{as}(t))$"
   ]
  },
  {
   "cell_type": "code",
   "execution_count": null,
   "metadata": {},
   "outputs": [],
   "source": [
    "# LAF of std\n",
    "fig, ax = plt.subplots(figsize=(8, 5))\n",
    "ax.plot(dsraw.LAF, dsraw['Ps'].std(dim='time').values, label='Ps')\n",
    "ax.plot(dsraw.LAF, dsraw['Pas'].std(dim='time').values, label='Pas')\n",
    "ax.legend()\n",
    "ax.set_ylim(0, 200)\n",
    "ax.set_xlim(0, dsraw.LAF.max())"
   ]
  },
  {
   "cell_type": "markdown",
   "metadata": {},
   "source": [
    "Unable to identify any significant features using the standard deviation of power in time.\n",
    "\n",
    "## $\\sigma(P_s(x))$ and $\\sigma(P_{as}(x))$"
   ]
  },
  {
   "cell_type": "code",
   "execution_count": null,
   "metadata": {},
   "outputs": [],
   "source": [
    "import warnings\n",
    "warnings.filterwarnings(\"ignore\")"
   ]
  },
  {
   "cell_type": "code",
   "execution_count": null,
   "metadata": {},
   "outputs": [],
   "source": [
    "# LAF of std\n",
    "rolling_Ps = dsraw['Ps'].rolling(LAF=10, center=True).std().max(dim='time')\n",
    "rolling_Pas = dsraw['Pas'].rolling(LAF=10, center=True).std().max(dim='time')\n",
    "fig, ax = plt.subplots(figsize=(8, 5))\n",
    "ax.plot(rolling_Ps.LAF, rolling_Ps, label='Ps')\n",
    "ax.plot(rolling_Pas.LAF, rolling_Pas, label='Pas')\n",
    "ax.legend()\n",
    "ax.set_ylim(0, 30)\n",
    "ax.set_xlim(0, dsraw.LAF.max())"
   ]
  },
  {
   "cell_type": "markdown",
   "metadata": {},
   "source": [
    "There is a weird bowing behavior that peaks through the vertical array. It is unaffected by the splice to coned fiber at ~500-700m (similarly the mirror image on the other side). There is a peak in $\\sigma(P_s(x))$ at the middle of the array, between the baths.\n",
    "\n",
    "### Closer examination of particular features\n",
    "\n",
    "#### Near baths, core A"
   ]
  },
  {
   "cell_type": "code",
   "execution_count": null,
   "metadata": {},
   "outputs": [],
   "source": [
    "# Near baths - Core A\n",
    "fig, axes = plt.subplots(3, 1, figsize=(8, 5))\n",
    "\n",
    "rolling_Ps = dsraw['Ps'].rolling(LAF=10, center=True).std().mean(dim='time')\n",
    "rolling_Pas = dsraw['Pas'].rolling(LAF=10, center=True).std().mean(dim='time')\n",
    "\n",
    "# Scattered intensity rolling deviance\n",
    "ax = axes[0]\n",
    "\n",
    "ax.plot(rolling_Ps.LAF, rolling_Ps, label='Ps')\n",
    "ax.plot(rolling_Pas.LAF, rolling_Pas, label='Pas')\n",
    "\n",
    "ax.legend()\n",
    "ax.set_ylabel('$\\sigma(LAF=10)$, mean in time')\n",
    "ax.set_ylim(0, 90)\n",
    "ax.set_xlim(10, 50)\n",
    "# Power\n",
    "ax = axes[1]\n",
    "\n",
    "ax.plot(power.LAF, power.mean(dim='time').values)\n",
    "\n",
    "ax.set_ylabel(r'$log(\\frac{P_s}{P_{as}})$, mean in time')\n",
    "ax.set_ylim(0.08, 0.31)\n",
    "ax.set_xlim(10, 50)\n",
    "# Temperature\n",
    "ax = axes[2]\n",
    "\n",
    "ax.plot(power.LAF, dsraw['temp'].mean(dim='time').values)\n",
    "\n",
    "ax.set_ylabel('Temperature')\n",
    "ax.set_ylim(-1, 38)\n",
    "ax.set_xlim(10, 50)"
   ]
  },
  {
   "cell_type": "markdown",
   "metadata": {},
   "source": [
    "Behaves as expected. More spatial variability in the anti-stokes scattering than the stokes scattering.\n",
    "\n",
    "#### Far baths, core A/Near baths, core B"
   ]
  },
  {
   "cell_type": "code",
   "execution_count": null,
   "metadata": {},
   "outputs": [],
   "source": [
    "# Far baths - Core A/Near baths -- core B\n",
    "rolling_Ps = dsraw['Ps'].rolling(LAF=10, center=True).std().mean(dim='time')\n",
    "rolling_Pas = dsraw['Pas'].rolling(LAF=10, center=True).std().mean(dim='time')\n",
    "fig, ax = plt.subplots(figsize=(8, 5))\n",
    "ax.plot(rolling_Ps.LAF, rolling_Ps, label='Ps')\n",
    "ax.plot(rolling_Pas.LAF, rolling_Pas, label='Pas')\n",
    "ax.legend()\n",
    "ax.set_ylim(0, 100)\n",
    "ax.set_xlim(880, 935)"
   ]
  },
  {
   "cell_type": "markdown",
   "metadata": {},
   "source": [
    "Again, behaves as expected. The splice at approximately 908m has a larger $\\sigma(P_s)$ than $\\sigma(P_{as})$ indicating a step loss at this splice. However, since we handle each core separately, we can happily ignore this step loss.\n",
    "\n",
    "#### Far baths, core B"
   ]
  },
  {
   "cell_type": "code",
   "execution_count": null,
   "metadata": {},
   "outputs": [],
   "source": [
    "# Far baths - Core B\n",
    "rolling_Ps = dsraw['Ps'].rolling(LAF=10, center=True).std().max(dim='time')\n",
    "rolling_Pas = dsraw['Pas'].rolling(LAF=10, center=True).std().max(dim='time')\n",
    "fig, ax = plt.subplots(figsize=(8, 5))\n",
    "ax.plot(rolling_Ps.LAF, rolling_Ps, label='Ps')\n",
    "ax.plot(rolling_Pas.LAF, rolling_Pas, label='Pas')\n",
    "ax.legend()\n",
    "ax.set_ylim(0, 100)\n",
    "ax.set_xlim(1780, 1800)"
   ]
  },
  {
   "cell_type": "markdown",
   "metadata": {},
   "source": [
    "Far baths look just fine as well."
   ]
  },
  {
   "cell_type": "markdown",
   "metadata": {},
   "source": [
    "#### Vertical arrays, core A\n",
    "\n",
    "Now let's take a closer look at the bowing of the $\\sigma(P_s)$ near the vertical arrays."
   ]
  },
  {
   "cell_type": "code",
   "execution_count": null,
   "metadata": {},
   "outputs": [],
   "source": [
    "rolling_Ps = dsraw['Ps'].rolling(LAF=10, center=True).std().mean(dim='time')\n",
    "rolling_Pas = dsraw['Pas'].rolling(LAF=10, center=True).std().mean(dim='time')"
   ]
  },
  {
   "cell_type": "code",
   "execution_count": null,
   "metadata": {},
   "outputs": [],
   "source": [
    "# Vertical segments - Core A\n",
    "fig, axes = plt.subplots(3, 1, figsize=(20, 10))\n",
    "\n",
    "# Scattered intensity rolling deviance\n",
    "ax = axes[0]\n",
    "\n",
    "ax.plot(rolling_Ps.LAF, rolling_Ps, label='Ps')\n",
    "ax.plot(rolling_Pas.LAF, rolling_Pas, label='Pas')\n",
    "\n",
    "ax.legend()\n",
    "ax.set_ylabel('$\\sigma(LAF=10)$, mean in time')\n",
    "ax.set_ylim(0, 20)\n",
    "ax.set_xlim(350, 550)\n",
    "\n",
    "# Power\n",
    "ax = axes[1]\n",
    "\n",
    "ax.plot(power.LAF, power.mean(dim='time').values)\n",
    "\n",
    "ax.set_ylabel(r'$log(\\frac{P_s}{P_{as}})$, mean in time')\n",
    "ax.set_ylim(0.27, 0.28)\n",
    "ax.set_xlim(350, 550)\n",
    "\n",
    "# Temperature\n",
    "ax = axes[2]\n",
    "\n",
    "ax.plot(power.LAF, dsraw['temp'].mean(dim='time').values)\n",
    "\n",
    "ax.set_ylabel('Temperature')\n",
    "ax.set_ylim(0, 10)\n",
    "ax.set_xlim(350, 550)\n",
    "\n",
    "for l in phys_locs:\n",
    "    if 'Vertical' in phys_locs[l]['long name']:\n",
    "        for c in cores:\n",
    "            ax.fill_between(phys_locs[l]['LAF'][c], 0, 50, edgecolor='k', facecolor='0.9', alpha=0.8)"
   ]
  },
  {
   "cell_type": "markdown",
   "metadata": {},
   "source": [
    "This plot suggests that there may be a step loss around LAF=415m. The spikes in the rolling deviancy (top) and log power (middle) and dips in temperature are the vertical sections. The flat sections in between are the fiber moving between elements of the vertical arrays."
   ]
  },
  {
   "cell_type": "markdown",
   "metadata": {},
   "source": [
    "#### Vertical segments core B"
   ]
  },
  {
   "cell_type": "code",
   "execution_count": null,
   "metadata": {},
   "outputs": [],
   "source": [
    "# Vertical segments - Core B\n",
    "fig, axes = plt.subplots(3, 1, figsize=(20, 10))\n",
    "\n",
    "# Scattered intensity rolling deviance\n",
    "ax = axes[0]\n",
    "\n",
    "ax.plot(rolling_Ps.LAF, rolling_Ps, label='Ps')\n",
    "ax.plot(rolling_Pas.LAF, rolling_Pas, label='Pas')\n",
    "\n",
    "ax.legend()\n",
    "ax.set_ylabel('$\\sigma(LAF=10)$, mean in time')\n",
    "ax.set_ylim(0, 15)\n",
    "ax.set_xlim(1250, 1450)\n",
    "\n",
    "# Power\n",
    "ax = axes[1]\n",
    "\n",
    "ax.plot(power.LAF, power.mean(dim='time').values)\n",
    "\n",
    "ax.set_ylabel(r'$log(\\frac{P_s}{P_{as}})$, mean in time')\n",
    "ax.set_ylim(0.32, 0.35)\n",
    "ax.set_xlim(1250, 1450)\n",
    "\n",
    "# Temperature\n",
    "ax = axes[2]\n",
    "\n",
    "ax.plot(power.LAF, dsraw['temp'].mean(dim='time').values)\n",
    "\n",
    "ax.set_ylabel('Temperature')\n",
    "ax.set_ylim(0, 10)\n",
    "ax.set_xlim(1250, 1450)\n",
    "\n",
    "for l in phys_locs:\n",
    "    if 'Vertical' in phys_locs[l]['long name']:\n",
    "        for c in cores:\n",
    "            ax.fill_between(phys_locs[l]['LAF'][c], 0, 50, edgecolor='k', facecolor='0.9', alpha=0.8)"
   ]
  },
  {
   "cell_type": "markdown",
   "metadata": {},
   "source": [
    "### A more rigorous fiber problem detection method\n",
    "\n",
    "The mean $\\sigma(P_s)$ is not always greater than the $\\sigma(P_{as})$, especially as too tight of a bend or other step losses may be transient features. To more robustly identify troublesome spots, I am using the fraction of the total peirod that $\\sigma(P_s)$ < $\\sigma(P_{as})$."
   ]
  },
  {
   "cell_type": "code",
   "execution_count": null,
   "metadata": {},
   "outputs": [],
   "source": [
    "rolling_Ps = dsraw['Ps'].rolling(LAF=10, center=True).std()\n",
    "rolling_Pas = dsraw['Pas'].rolling(LAF=10, center=True).std()"
   ]
  },
  {
   "cell_type": "code",
   "execution_count": null,
   "metadata": {},
   "outputs": [],
   "source": [
    "bad_ratio = (rolling_Ps > rolling_Pas).mean(dim='time')"
   ]
  },
  {
   "cell_type": "code",
   "execution_count": null,
   "metadata": {},
   "outputs": [],
   "source": [
    "fig, ax = plt.subplots(1, 1)\n",
    "ax.plot(bad_ratio.LAF, bad_ratio.values)\n",
    "ax.set_ylabel(r'Fraction of time $\\sigma(P_s(LAF)) > \\sigma(P_{as}(LAF))$ [-]')\n",
    "ax.set_xlim(0, 1800)\n",
    "ax.set_ylim(0, 1)\n",
    "ax.set_xlabel('LAF')"
   ]
  },
  {
   "cell_type": "markdown",
   "metadata": {},
   "source": [
    "While the vertical segments (~400-500m and 1300-1400m) have the weird bowing noted earlier, only the splice between cores pops out with $\\sigma(P_s)$ > $\\sigma(P_{as})$ for more than 80% of the studied period."
   ]
  },
  {
   "cell_type": "code",
   "execution_count": null,
   "metadata": {},
   "outputs": [],
   "source": []
  }
 ],
 "metadata": {
  "kernelspec": {
   "display_name": "Python 3",
   "language": "python",
   "name": "python3"
  },
  "language_info": {
   "codemirror_mode": {
    "name": "ipython",
    "version": 3
   },
   "file_extension": ".py",
   "mimetype": "text/x-python",
   "name": "python",
   "nbconvert_exporter": "python",
   "pygments_lexer": "ipython3",
   "version": "3.6.9"
  }
 },
 "nbformat": 4,
 "nbformat_minor": 4
}
